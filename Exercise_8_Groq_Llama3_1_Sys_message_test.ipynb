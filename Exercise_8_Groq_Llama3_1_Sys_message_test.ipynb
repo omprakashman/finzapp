{
  "nbformat": 4,
  "nbformat_minor": 0,
  "metadata": {
    "colab": {
      "provenance": [],
      "authorship_tag": "ABX9TyOj51r/WaEpvQaGGIuUhkD/",
      "include_colab_link": true
    },
    "kernelspec": {
      "name": "python3",
      "display_name": "Python 3"
    },
    "language_info": {
      "name": "python"
    }
  },
  "cells": [
    {
      "cell_type": "markdown",
      "metadata": {
        "id": "view-in-github",
        "colab_type": "text"
      },
      "source": [
        "<a href=\"https://colab.research.google.com/github/omprakashman/finzapp/blob/master/Exercise_8_Groq_Llama3_1_Sys_message_test.ipynb\" target=\"_parent\"><img src=\"https://colab.research.google.com/assets/colab-badge.svg\" alt=\"Open In Colab\"/></a>"
      ]
    },
    {
      "cell_type": "code",
      "execution_count": 70,
      "metadata": {
        "id": "LNAGfWX1MuAa"
      },
      "outputs": [],
      "source": []
    },
    {
      "cell_type": "code",
      "source": [
        "!pip install -q groq"
      ],
      "metadata": {
        "id": "1U8AKBoSNKqP"
      },
      "execution_count": 71,
      "outputs": []
    },
    {
      "cell_type": "code",
      "source": [
        "from google.colab import userdata"
      ],
      "metadata": {
        "id": "cYC5pXGZSOf2"
      },
      "execution_count": 72,
      "outputs": []
    },
    {
      "cell_type": "code",
      "source": [
        "import os"
      ],
      "metadata": {
        "id": "ENBXIJxrR_P_"
      },
      "execution_count": 73,
      "outputs": []
    },
    {
      "cell_type": "code",
      "source": [
        "from groq import Groq"
      ],
      "metadata": {
        "id": "dh_bvJL4SCLu"
      },
      "execution_count": 74,
      "outputs": []
    },
    {
      "cell_type": "code",
      "source": [
        "client = Groq(api_key=userdata.get('GROQ_API_KEY'))\n",
        "infox = 'how to make a indian sambar'"
      ],
      "metadata": {
        "id": "D7EJSnRXSJHo"
      },
      "execution_count": 75,
      "outputs": []
    },
    {
      "cell_type": "code",
      "source": [
        "stream = client.chat.completions.create(\n",
        "    messages = [\n",
        "\n",
        "        {\n",
        "            \"role\" : \"system\",\n",
        "            \"content\" : \"you are a helpfull assistant\"\n",
        "        },\n",
        "\n",
        "        {\"role\" : \"user\",\n",
        "    ##     \"content\" : \"what is the capital of india \"}\n",
        "         \"content\" : infox}\n",
        "\n",
        "    ],\n",
        "    model = \"llama3-70b-8192\",\n",
        "\n",
        "    # parameters\n",
        "    temperature = 0.5,\n",
        "    max_tokens = 1024,\n",
        "    top_p = 1,\n",
        "    stop= None,\n",
        "    stream = True\n",
        ")"
      ],
      "metadata": {
        "id": "ZpRYZZiqT9DD"
      },
      "execution_count": 76,
      "outputs": []
    },
    {
      "cell_type": "code",
      "source": [
        " for chunk in stream:\n",
        "  print(chunk.choices[0].delta.content, end = \"\")"
      ],
      "metadata": {
        "colab": {
          "base_uri": "https://localhost:8080/"
        },
        "id": "wb9Kooq_tRPE",
        "outputId": "7bd26ce7-65e2-465f-a432-d22ed3733dcc"
      },
      "execution_count": 77,
      "outputs": [
        {
          "output_type": "stream",
          "name": "stdout",
          "text": [
            "Sambar is a popular South Indian lentil-based vegetable stew that is often served with rice, idlis, dosas, or vadas! Here's a simple recipe to make a delicious and authentic Indian sambar:\n",
            "\n",
            "**Ingredients:**\n",
            "\n",
            "For the sambar masala powder:\n",
            "\n",
            "* 2 tablespoons coriander seeds\n",
            "* 1 teaspoon cumin seeds\n",
            "* 1 teaspoon fennel seeds\n",
            "* 1/2 teaspoon cinnamon powder\n",
            "* 1/2 teaspoon turmeric powder\n",
            "* 1/2 teaspoon red chili powder\n",
            "* 1/2 teaspoon garam masala powder\n",
            "* Salt, to taste\n",
            "\n",
            "For the sambar:\n",
            "\n",
            "* 1 cup split red lentils (masoor dal)\n",
            "* 1 cup split yellow lentils (moong dal)\n",
            "* 1/2 cup chopped onions\n",
            "* 2 cloves garlic, minced\n",
            "* 1 medium-sized tomato, diced\n",
            "* 1 medium-sized carrot, peeled and diced\n",
            "* 1 medium-sized potato, peeled and diced\n",
            "* 1/2 cup chopped drumsticks (or any other vegetable of your choice)\n",
            "* 1/4 cup tamarind paste\n",
            "* 1/4 cup sambar masala powder (prepared above)\n",
            "* 2 tablespoons vegetable oil\n",
            "* Salt, to taste\n",
            "* Water, as needed\n",
            "* Fresh cilantro, for garnish\n",
            "\n",
            "**Instructions:**\n",
            "\n",
            "1. **Prepare the sambar masala powder:** Dry roast the coriander seeds, cumin seeds, and fennel seeds in a pan until fragrant. Let them cool, then grind them into a fine powder using a spice grinder or mortar and pestle. Mix in the cinnamon powder, turmeric powder, red chili powder, and garam masala powder. Store the sambar masala powder in an airtight container.\n",
            "2. **Cook the lentils:** Rinse the split red lentils and split yellow lentils together and soak them in water for at least 30 minutes. Drain the water and cook the lentils in a pressure cooker or a large pot with 4 cups of water until they are mushy and well-cooked.\n",
            "3. **Prepare the vegetables:** Heat oil in a pan and sauté the chopped onions, minced garlic, diced tomato, carrot, potato, and drumsticks until they are tender and lightly browned.\n",
            "4. **Make the sambar:** Add the cooked lentils, tamarind paste, sambar masala powder, and salt to the pan with the vegetables. Mix well and add water as needed to achieve a thick, but pourable consistency.\n",
            "5. **Simmer the sambar:** Bring the sambar to a boil, then reduce the heat to low and simmer for 10-15 minutes or until the flavors have melded together and the sambar has thickened slightly.\n",
            "6. **Serve:** Garnish the sambar with fresh cilantro and serve with steaming hot rice, idlis, dosas, or vadas.\n",
            "\n",
            "**Tips and Variations:**\n",
            "\n",
            "* You can customize the vegetables in the sambar according to your preference.\n",
            "* Adjust the amount of tamarind paste and sambar masala powder to suit your taste.\n",
            "* For a thicker sambar, reduce the amount of water or add more lentils.\n",
            "* You can also add other spices like cumin seeds, mustard seeds, or curry leaves to the sambar for added flavor.\n",
            "* Sambar can be made ahead of time and refrigerated or frozen for later use. Reheat it before serving.\n",
            "\n",
            "Enjoy your delicious and authentic Indian sambar!None"
          ]
        }
      ]
    },
    {
      "cell_type": "code",
      "source": [
        "\n"
      ],
      "metadata": {
        "id": "2Z7cWWXRrlkQ"
      },
      "execution_count": 77,
      "outputs": []
    },
    {
      "cell_type": "code",
      "source": [
        " # print (chat_completion.choices[0].message.content)"
      ],
      "metadata": {
        "id": "vYdrk5AlU6tS"
      },
      "execution_count": 78,
      "outputs": []
    }
  ]
}